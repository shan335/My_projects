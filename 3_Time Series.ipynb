{
 "cells": [
  {
   "cell_type": "code",
   "execution_count": 1,
   "metadata": {},
   "outputs": [
    {
     "data": {
      "image/png": "[encoded data removed]",
      "text/plain": [
       "<Figure size 432x288 with 2 Axes>"
      ]
     },
     "metadata": {
      "needs_background": "light"
     },
     "output_type": "display_data"
    }
   ],
   "source": [
    "from pandas import read_csv\n",
    "from statsmodels.graphics.tsaplots import plot_acf\n",
    "from statsmodels.graphics.tsaplots import plot_pacf\n",
    "from matplotlib import pyplot\n",
    "#import pandas.util.testing as tm\n",
    "\n",
    "# load data\n",
    "series = read_csv('yearly-water-usage.csv', header=0, index_col=0)\n",
    "\n",
    "fig = pyplot.figure()\n",
    "fig.subplots_adjust(hspace=0.6)\n",
    "pyplot.subplot(211)\n",
    "plot_acf(series, ax=pyplot.gca()) # gca -> \"GetCurrentAxis\"\n",
    "# Plots lags on the horizontal and the correlations on vertical axis.\n",
    "\n",
    "pyplot.subplot(212)\n",
    "plot_pacf(series, ax=pyplot.gca())\n",
    "pyplot.show();"
   ]
  },
  {
   "cell_type": "code",
   "execution_count": 2,
   "metadata": {},
   "outputs": [
    {
     "name": "stdout",
     "output_type": "stream",
     "text": [
      ">Predicted=495.579, Expected=503\n",
      ">Predicted=506.769, Expected=503\n",
      ">Predicted=506.675, Expected=450\n",
      ">Predicted=452.293, Expected=432\n",
      ">Predicted=433.810, Expected=432\n",
      ">Predicted=433.767, Expected=458\n",
      ">Predicted=460.318, Expected=462\n",
      ">Predicted=464.356, Expected=503\n",
      ">Predicted=506.196, Expected=488\n",
      ">Predicted=490.809, Expected=466\n",
      ">Predicted=468.292, Expected=492\n",
      ">Predicted=494.776, Expected=503\n",
      ">Predicted=505.940, Expected=515\n",
      ">Predicted=518.118, Expected=500\n",
      ">Predicted=502.769, Expected=522\n",
      ">Predicted=525.132, Expected=575\n",
      ">Predicted=579.056, Expected=583\n",
      ">Predicted=587.127, Expected=587\n",
      ">Predicted=591.125, Expected=628\n",
      ">Predicted=632.772, Expected=640\n",
      ">Predicted=644.897, Expected=609\n",
      ">Predicted=613.288, Expected=606\n",
      ">Predicted=610.167, Expected=632\n",
      ">Predicted=636.525, Expected=617\n",
      ">Predicted=621.210, Expected=613\n",
      ">Predicted=617.079, Expected=598\n",
      ">Predicted=601.781, Expected=575\n",
      ">Predicted=578.369, Expected=564\n",
      ">Predicted=567.152, Expected=549\n",
      ">Predicted=551.881, Expected=538\n",
      ">Predicted=540.676, Expected=568\n",
      ">Predicted=571.072, Expected=575\n",
      ">Predicted=578.129, Expected=579\n",
      ">Predicted=582.141, Expected=587\n",
      ">Predicted=590.208, Expected=602\n",
      ">Predicted=605.370, Expected=594\n",
      ">Predicted=597.216, Expected=587\n",
      ">Predicted=590.080, Expected=587\n",
      ">Predicted=590.039, Expected=625\n",
      ">Predicted=628.494, Expected=613\n",
      "RMSE: 21.655\n"
     ]
    }
   ],
   "source": [
    "import warnings\n",
    "warnings.filterwarnings('ignore')\n",
    "\n",
    "from pandas import read_csv\n",
    "from sklearn.metrics import mean_squared_error\n",
    "from statsmodels.tsa.arima_model import ARIMA\n",
    "from math import sqrt\n",
    "\n",
    "# load data\n",
    "series = read_csv('yearly-water-usage.csv', header=0, index_col=0)\n",
    "\n",
    "# prepare data\n",
    "X = series.values\n",
    "X = X.astype('float32')\n",
    "\n",
    "train_size = int(len(X) * 0.50)\n",
    "train, test = X[0:train_size], X[train_size:]\n",
    "\n",
    "# walk-forward validation\n",
    "history = [x for x in train]\n",
    "predictions = list()\n",
    "\n",
    "for i in range(len(test)):\n",
    "\t# predict\n",
    "\tmodel = ARIMA(history, order=(0,1,0))\n",
    "\tmodel_fit = model.fit() \n",
    "\tyhat = model_fit.forecast()[0]\n",
    "\tpredictions.append(yhat)\n",
    "\t# observation\n",
    "\tobs = test[i]\n",
    "\thistory.append(obs)\n",
    "\tprint('>Predicted=%.3f, Expected=%3.f' % (yhat, obs))\n",
    "    \n",
    "# report performance\n",
    "mse = mean_squared_error(test, predictions)\n",
    "rmse = sqrt(mse)\n",
    "print('RMSE: %.3f' % rmse)"
   ]
  },
  {
   "cell_type": "code",
   "execution_count": null,
   "metadata": {},
   "outputs": [
    {
     "name": "stdout",
     "output_type": "stream",
     "text": [
      "ARIMA(0, 0, 1) RMSE=288.152\n",
      "ARIMA(0, 0, 2) RMSE=165.005\n",
      "ARIMA(0, 0, 3) RMSE=98.733\n",
      "ARIMA(0, 0, 4) RMSE=76.222\n",
      "ARIMA(0, 1, 1) RMSE=21.627\n",
      "ARIMA(2, 1, 0) RMSE=21.426\n"
     ]
    }
   ],
   "source": [
    "import warnings\n",
    "from pandas import read_csv\n",
    "from statsmodels.tsa.arima_model import ARIMA\n",
    "from sklearn.metrics import mean_squared_error\n",
    "from math import sqrt\n",
    " \n",
    "# evaluate an ARIMA model for a given order (p,d,q) and return RMSE\n",
    "def evaluate_arima_model(X, arima_order):\n",
    "\t# prepare training dataset\n",
    "\tX = X.astype('float32')\n",
    "\ttrain_size = int(len(X) * 0.50)\n",
    "\ttrain, test = X[0:train_size], X[train_size:]\n",
    "\thistory = [x for x in train]\n",
    "\t# make predictions\n",
    "\tpredictions = list()\n",
    "\tfor t in range(len(test)):\n",
    "\t\tmodel = ARIMA(history, order=arima_order)\n",
    "\t\tmodel_fit = model.fit(trend='nc')\n",
    "\t\tyhat = model_fit.forecast()[0] # [0] -> indicates the value of the forecast\n",
    "        # see syntax of forecast function here -> \n",
    "        # http://www.statsmodels.org/stable/generated/statsmodels.tsa.arima_model.ARIMAResults.forecast.html?highlight=forecast#statsmodels.tsa.arima_model.ARIMAResults.forecast\n",
    "\t\tpredictions.append(yhat)\n",
    "\t\thistory.append(test[t])\n",
    "\t# calculate out of sample error\n",
    "\tmse = mean_squared_error(test, predictions)\n",
    "\trmse = sqrt(mse)\n",
    "\treturn rmse\n",
    " \n",
    "# evaluate combinations of p, d and q values for an ARIMA model\n",
    "def evaluate_models(dataset, p_values, d_values, q_values):\n",
    "    dataset = dataset.astype('float32')\n",
    "    best_score, best_cfg = float(\"inf\"), None\n",
    "    for p in p_values:\n",
    "        for d in d_values:\n",
    "            for q in q_values:\n",
    "                order = (p,d,q)\n",
    "                try:\n",
    "                    rmse = evaluate_arima_model(dataset, order)\n",
    "                    if rmse < best_score:\n",
    "                        best_score, best_cfg = rmse, order\n",
    "                        print('ARIMA%s RMSE=%.3f' % (order,rmse))\n",
    "                except:\n",
    "                    continue\n",
    "    print('Best ARIMA%s RMSE=%.3f' % (best_cfg, best_score))\n",
    " \n",
    "# load data\n",
    "series = read_csv('yearly-water-usage.csv', header=0, index_col=0)\n",
    "\n",
    "# evaluate parameters\n",
    "p_values = range(0, 5)\n",
    "d_values = range(0, 3)\n",
    "q_values = range(0, 5)\n",
    "warnings.filterwarnings(\"ignore\")\n",
    "evaluate_models(series.values, p_values, d_values, q_values)"
   ]
  },
  {
   "cell_type": "code",
   "execution_count": null,
   "metadata": {},
   "outputs": [],
   "source": [
    "# load data\n",
    "series = read_csv('yearly-water-usage.csv', header=0, index_col=0)\n",
    "\n",
    "# prepare data\n",
    "X = series.values\n",
    "X = X.astype('float32')\n",
    "\n",
    "# fit model\n",
    "model = ARIMA(X, order=(2,1,0))\n",
    "model_fit = model.fit(trend='nc')\n",
    "# http://www.statsmodels.org/stable/generated/statsmodels.tsa.arima_model.ARIMA.fit.html?highlight=arima%20fit#statsmodels.tsa.arima_model.ARIMA.fit\n",
    "\n",
    "yhat = model_fit.forecast(steps=4, alpha=0.05)\n",
    "# default alpha=0.01, but we kept it as 0.05, hence 95% confidence\n",
    "# check the syntax of forecast here\n",
    "# http://www.statsmodels.org/stable/generated/statsmodels.tsa.arima_model.ARIMAResults.forecast.html?highlight=forecast#statsmodels.tsa.arima_model.ARIMAResults.forecast\n",
    "\n",
    "print(yhat)\n",
    "# we are predicting 4 new values -> see first array\n",
    "# in 2nd array -> we get the Array of the standard errors, of the forecasts.\n",
    "# in 3rd array -> we get 2d array of the confidence interval for the forecast"
   ]
  },
  {
   "cell_type": "code",
   "execution_count": null,
   "metadata": {},
   "outputs": [],
   "source": []
  }
 ],
 "metadata": {
  "kernelspec": {
   "display_name": "Python 3",
   "language": "python",
   "name": "python3"
  },
  "language_info": {
   "codemirror_mode": {
    "name": "ipython",
    "version": 3
   },
   "file_extension": ".py",
   "mimetype": "text/x-python",
   "name": "python",
   "nbconvert_exporter": "python",
   "pygments_lexer": "ipython3",
   "version": "3.7.6"
  }
 },
 "nbformat": 4,
 "nbformat_minor": 4
}
