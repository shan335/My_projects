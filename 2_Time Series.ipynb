{
 "cells": [
  {
   "cell_type": "code",
   "execution_count": 1,
   "metadata": {},
   "outputs": [
    {
     "data": {
      "text/html": [
       "<div>\n",
       "<style scoped>\n",
       "    .dataframe tbody tr th:only-of-type {\n",
       "        vertical-align: middle;\n",
       "    }\n",
       "\n",
       "    .dataframe tbody tr th {\n",
       "        vertical-align: top;\n",
       "    }\n",
       "\n",
       "    .dataframe thead th {\n",
       "        text-align: right;\n",
       "    }\n",
       "</style>\n",
       "<table border=\"1\" class=\"dataframe\">\n",
       "  <thead>\n",
       "    <tr style=\"text-align: right;\">\n",
       "      <th></th>\n",
       "      <th>Water</th>\n",
       "    </tr>\n",
       "    <tr>\n",
       "      <th>Year</th>\n",
       "      <th></th>\n",
       "    </tr>\n",
       "  </thead>\n",
       "  <tbody>\n",
       "    <tr>\n",
       "      <th>1885</th>\n",
       "      <td>356</td>\n",
       "    </tr>\n",
       "    <tr>\n",
       "      <th>1886</th>\n",
       "      <td>386</td>\n",
       "    </tr>\n",
       "    <tr>\n",
       "      <th>1887</th>\n",
       "      <td>397</td>\n",
       "    </tr>\n",
       "    <tr>\n",
       "      <th>1888</th>\n",
       "      <td>397</td>\n",
       "    </tr>\n",
       "    <tr>\n",
       "      <th>1889</th>\n",
       "      <td>413</td>\n",
       "    </tr>\n",
       "  </tbody>\n",
       "</table>\n",
       "</div>"
      ],
      "text/plain": [
       "      Water\n",
       "Year       \n",
       "1885    356\n",
       "1886    386\n",
       "1887    397\n",
       "1888    397\n",
       "1889    413"
      ]
     },
     "execution_count": 1,
     "metadata": {},
     "output_type": "execute_result"
    }
   ],
   "source": [
    "from pandas import read_csv\n",
    "#series = read_csv('datasets/yearly-water-usage.csv')\n",
    "series = read_csv('yearly-water-usage.csv',index_col=0)\n",
    "\n",
    "series.head()"
   ]
  },
  {
   "cell_type": "code",
   "execution_count": 2,
   "metadata": {},
   "outputs": [
    {
     "name": "stdout",
     "output_type": "stream",
     "text": [
      "<class 'pandas.core.frame.DataFrame'>\n",
      "Int64Index: 79 entries, 1885 to 1963\n",
      "Data columns (total 1 columns):\n",
      " #   Column  Non-Null Count  Dtype\n",
      "---  ------  --------------  -----\n",
      " 0   Water   79 non-null     int64\n",
      "dtypes: int64(1)\n",
      "memory usage: 1.2 KB\n"
     ]
    }
   ],
   "source": [
    "series.info()  # Note : Yearly data from 1885 to 1963"
   ]
  },
  {
   "cell_type": "code",
   "execution_count": 3,
   "metadata": {},
   "outputs": [],
   "source": [
    "## -- DON'T RUN this code --\n",
    "## -- SAMPLE CODE --\n",
    "# prepare data. spliting into train and test set\n",
    "X = series.values\n",
    "X = X.astype('float32')\n",
    "# Always convert a loaded dataset to float32 in case the loaded data \n",
    "# still has some String or Integer data types.\n",
    "\n",
    "train_size = int(len(X) * 0.50)  ## 79/2 => 39.5, train_size = 39, \n",
    "\n",
    "train, test = X[0 : train_size], X[ train_size : ]  ## train has 39 records , test has 40 records"
   ]
  },
  {
   "cell_type": "code",
   "execution_count": 5,
   "metadata": {},
   "outputs": [
    {
     "name": "stdout",
     "output_type": "stream",
     "text": [
      ">Predicted=  [492.] Expected=  [503.]\n",
      ">Predicted=  [503.] Expected=  [503.]\n",
      ">Predicted=  [503.] Expected=  [450.]\n",
      ">Predicted=  [450.] Expected=  [432.]\n",
      ">Predicted=  [432.] Expected=  [432.]\n",
      ">Predicted=  [432.] Expected=  [458.]\n",
      ">Predicted=  [458.] Expected=  [462.]\n",
      ">Predicted=  [462.] Expected=  [503.]\n",
      ">Predicted=  [503.] Expected=  [488.]\n",
      ">Predicted=  [488.] Expected=  [466.]\n",
      ">Predicted=  [466.] Expected=  [492.]\n",
      ">Predicted=  [492.] Expected=  [503.]\n",
      ">Predicted=  [503.] Expected=  [515.]\n",
      ">Predicted=  [515.] Expected=  [500.]\n",
      ">Predicted=  [500.] Expected=  [522.]\n",
      ">Predicted=  [522.] Expected=  [575.]\n",
      ">Predicted=  [575.] Expected=  [583.]\n",
      ">Predicted=  [583.] Expected=  [587.]\n",
      ">Predicted=  [587.] Expected=  [628.]\n",
      ">Predicted=  [628.] Expected=  [640.]\n",
      ">Predicted=  [640.] Expected=  [609.]\n",
      ">Predicted=  [609.] Expected=  [606.]\n",
      ">Predicted=  [606.] Expected=  [632.]\n",
      ">Predicted=  [632.] Expected=  [617.]\n",
      ">Predicted=  [617.] Expected=  [613.]\n",
      ">Predicted=  [613.] Expected=  [598.]\n",
      ">Predicted=  [598.] Expected=  [575.]\n",
      ">Predicted=  [575.] Expected=  [564.]\n",
      ">Predicted=  [564.] Expected=  [549.]\n",
      ">Predicted=  [549.] Expected=  [538.]\n",
      ">Predicted=  [538.] Expected=  [568.]\n",
      ">Predicted=  [568.] Expected=  [575.]\n",
      ">Predicted=  [575.] Expected=  [579.]\n",
      ">Predicted=  [579.] Expected=  [587.]\n",
      ">Predicted=  [587.] Expected=  [602.]\n",
      ">Predicted=  [602.] Expected=  [594.]\n",
      ">Predicted=  [594.] Expected=  [587.]\n",
      ">Predicted=  [587.] Expected=  [587.]\n",
      ">Predicted=  [587.] Expected=  [625.]\n",
      ">Predicted=  [625.] Expected=  [613.]\n",
      "RMSE: 21.658\n"
     ]
    }
   ],
   "source": [
    "from pandas import read_csv\n",
    "from sklearn.metrics import mean_squared_error\n",
    "from math import sqrt\n",
    "import numpy as np\n",
    "\n",
    "# load data\n",
    "series = read_csv('yearly-water-usage.csv', index_col=0)\n",
    "\n",
    "# prepare data\n",
    "X = series.values\n",
    "X = X.astype('float32')\n",
    "train_size = int(len(X) * 0.50)\n",
    "train, test = X[0:train_size], X[train_size:]\n",
    "\n",
    "# walk-forward validation\n",
    "history = [x for x in train]\n",
    "\n",
    "predictions = list()\n",
    "\n",
    "for i in range(len(test)):\n",
    "\t# predict\n",
    "\tyhat = history[-1] # using the last i.e 39th record to predict 40th record\n",
    "\tpredictions.append(yhat)\n",
    "\n",
    "    # observation\n",
    "\tobs = test[i]  # test has data from 40th record\n",
    "\thistory.append(obs)\n",
    "\tprint('>Predicted= ' ,yhat, 'Expected= ', obs)\n",
    "\n",
    "# report performance\n",
    "mse = mean_squared_error(test, predictions)\n",
    "rmse = sqrt(mse)\n",
    "print('RMSE: %.3f' % rmse)"
   ]
  },
  {
   "cell_type": "code",
   "execution_count": 6,
   "metadata": {},
   "outputs": [
    {
     "data": {
      "image/png": "[encoded data removed]",
      "text/plain": [
       "<Figure size 432x288 with 1 Axes>"
      ]
     },
     "metadata": {
      "needs_background": "light"
     },
     "output_type": "display_data"
    }
   ],
   "source": [
    "from pandas import read_csv\n",
    "from matplotlib import pyplot\n",
    "\n",
    "series.plot();\n",
    "pyplot.show();"
   ]
  },
  {
   "cell_type": "code",
   "execution_count": 7,
   "metadata": {},
   "outputs": [
    {
     "data": {
      "image/png": "[encoded data removed]",
      "text/plain": [
       "<Figure size 432x288 with 1 Axes>"
      ]
     },
     "metadata": {
      "needs_background": "light"
     },
     "output_type": "display_data"
    }
   ],
   "source": [
    "import pandas as pd \n",
    "from pandas import read_csv\n",
    "from matplotlib import pyplot\n",
    " \n",
    "X = series.values\n",
    "X = X.astype('float32')\n",
    "\n",
    "# Differencing data to make the time series stationary\n",
    "# this would help us in reducing the trend\n",
    "diff = list()\n",
    "for i in range(1, len(X)):\n",
    "    value = X[i] - X[i - 1]\n",
    "    diff.append(value)\n",
    "\n",
    "stationary = pd.DataFrame(diff)\n",
    "#stationary.dropna();\n",
    "#stationary = stationary[1:]\n",
    "\n",
    "# plot differenced data\n",
    "stationary.plot(legend=False)\n",
    "pyplot.show();"
   ]
  },
  {
   "cell_type": "code",
   "execution_count": 9,
   "metadata": {},
   "outputs": [
    {
     "name": "stdout",
     "output_type": "stream",
     "text": [
      "ADF Statistic: -6.693248\n",
      "p-value: 0.000000\n",
      "Critical Values:\n",
      "Critical Values: {'1%': -3.5194805351545413, '5%': -2.9003945086747343, '10%': -2.5874984279778395}\n"
     ]
    }
   ],
   "source": [
    "from statsmodels.tsa.stattools import adfuller\n",
    "\n",
    "# check for Stationarity\n",
    "X = stationary.iloc[ : , 0].values\n",
    "#print(X) \n",
    "result = adfuller(X)\n",
    "\n",
    "print('ADF Statistic: %f' % result[0])\n",
    "print('p-value: %f' % result[1])\n",
    "print('Critical Values:')\n",
    "print('Critical Values:' ,result[4])\n",
    "\n",
    "## result[2], [3]  -> lags , nobs respectively "
   ]
  },
  {
   "cell_type": "code",
   "execution_count": null,
   "metadata": {},
   "outputs": [],
   "source": []
  }
 ],
 "metadata": {
  "kernelspec": {
   "display_name": "Python 3",
   "language": "python",
   "name": "python3"
  },
  "language_info": {
   "codemirror_mode": {
    "name": "ipython",
    "version": 3
   },
   "file_extension": ".py",
   "mimetype": "text/x-python",
   "name": "python",
   "nbconvert_exporter": "python",
   "pygments_lexer": "ipython3",
   "version": "3.7.6"
  }
 },
 "nbformat": 4,
 "nbformat_minor": 4
}
